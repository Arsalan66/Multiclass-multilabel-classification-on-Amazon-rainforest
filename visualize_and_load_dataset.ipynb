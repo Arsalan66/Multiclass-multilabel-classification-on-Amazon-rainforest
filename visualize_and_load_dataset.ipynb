{
 "cells": [
  {
   "cell_type": "code",
   "execution_count": 1,
   "metadata": {},
   "outputs": [
    {
     "name": "stdout",
     "output_type": "stream",
     "text": [
      "(40479, 2)\n",
      "  image_name                                         tags\n",
      "0    train_0                                 haze primary\n",
      "1    train_1              agriculture clear primary water\n",
      "2    train_2                                clear primary\n",
      "3    train_3                                clear primary\n",
      "4    train_4    agriculture clear habitation primary road\n",
      "5    train_5                           haze primary water\n",
      "6    train_6  agriculture clear cultivation primary water\n",
      "7    train_7                                 haze primary\n",
      "8    train_8        agriculture clear cultivation primary\n",
      "9    train_9   agriculture clear cultivation primary road\n"
     ]
    }
   ],
   "source": [
    "from pandas import read_csv\n",
    "# load file as CSV\n",
    "filename = 'train_v2.csv'\n",
    "mapping_csv = read_csv(filename)\n",
    "# summarize properties\n",
    "print(mapping_csv.shape)\n",
    "print(mapping_csv[:10])"
   ]
  },
  {
   "cell_type": "code",
   "execution_count": 1,
   "metadata": {},
   "outputs": [
    {
     "name": "stderr",
     "output_type": "stream",
     "text": [
      "Using TensorFlow backend.\n"
     ]
    },
    {
     "name": "stdout",
     "output_type": "stream",
     "text": [
      "(40479, 32, 32, 3) (40479, 17)\n"
     ]
    }
   ],
   "source": [
    "from os import listdir\n",
    "from numpy import zeros\n",
    "from numpy import asarray\n",
    "from numpy import savez_compressed\n",
    "from pandas import read_csv\n",
    "from keras.preprocessing.image import load_img\n",
    "from keras.preprocessing.image import img_to_array\n",
    "\n",
    "def create_tag_mapping(mapping_csv):\n",
    "# create a set of all known tags\n",
    "    labels = set()\n",
    "    for i in range(len(mapping_csv)):\n",
    "# convert spaced separated tags into an array of tags\n",
    "        tags = mapping_csv['tags'][i].split(' ')\n",
    "# add tags to the set of known labels\n",
    "        labels.update(tags)\n",
    "# convert set of labels to a list to list\n",
    "    labels = list(labels)\n",
    "# order set alphabetically\n",
    "    labels.sort()\n",
    "# dict that maps labels to integers, and the reverse\n",
    "    labels_map = {labels[i]:i for i in range(len(labels))}\n",
    "    inv_labels_map = {i:labels[i] for i in range(len(labels))}\n",
    "    return labels_map, inv_labels_map\n",
    "\n",
    "def create_file_mapping(mapping_csv):\n",
    "    mapping=dict()\n",
    "    for i in range(len(mapping_csv)):\n",
    "        names,tags= mapping_csv['image_name'][i],mapping_csv['tags'][i]\n",
    "        mapping[names]= tags.split(' ')\n",
    "    return mapping\n",
    "\n",
    "def one_hot_encode(tags,mapping):\n",
    "    encoding=zeros(len(mapping),dtype='uint8')\n",
    "    for tag in tags:\n",
    "        encoding[mapping[tag]]=1\n",
    "    return encoding\n",
    "\n",
    "def create_memory_dataset(path,file_mapping,tag_mapping):\n",
    "    # i need to store photos and target vectors so create two lists\n",
    "    photos, targets= list(), list()\n",
    "    # once the lists are made i need to load the images and convert them to numpy arrays\n",
    "    for filename in listdir(folder):\n",
    "        photo= load_img(path+filename, target_size=(32,32))\n",
    "        photo=img_to_array(photo, dtype='uint8')\n",
    "        # now i need to create the tags to one hot encode the targets\n",
    "        tags=file_mapping[filename[:-4]] \n",
    "        target= one_hot_encode(tags,tag_mapping)\n",
    "        photos.append(photo)\n",
    "        targets.append(target)\n",
    "    X=asarray(photos, dtype='uint8')\n",
    "    y = asarray(targets, dtype='uint8')\n",
    "    return X, y\n",
    "\n",
    "filename = 'train_v2.csv'        \n",
    "mapping_csv = read_csv(filename)\n",
    "# create a mapping of tags to integers\n",
    "tag_mapping, _ = create_tag_mapping(mapping_csv)\n",
    "# create a mapping of filenames to tag lists\n",
    "file_mapping = create_file_mapping(mapping_csv)\n",
    "folder = 'train-jpg/'\n",
    "X, y = create_memory_dataset(folder, file_mapping, tag_mapping)\n",
    "print(X.shape, y.shape)\n",
    "# save both arrays to one file in compressed format\n",
    "savez_compressed('planet_data2.npz', X, y)"
   ]
  },
  {
   "cell_type": "code",
   "execution_count": 2,
   "metadata": {},
   "outputs": [
    {
     "name": "stdout",
     "output_type": "stream",
     "text": [
      "Loaded:  (40479, 32, 32, 3) (40479, 17)\n"
     ]
    }
   ],
   "source": [
    "# load prepared planet dataset\n",
    "from numpy import load\n",
    "data = load('Arsal_data2.npz')\n",
    "X, y = data['arr_0'], data['arr_1']\n",
    "print('Loaded: ', X.shape, y.shape)"
   ]
  }
 ],
 "metadata": {
  "kernelspec": {
   "display_name": "Python 3",
   "language": "python",
   "name": "python3"
  },
  "language_info": {
   "codemirror_mode": {
    "name": "ipython",
    "version": 3
   },
   "file_extension": ".py",
   "mimetype": "text/x-python",
   "name": "python",
   "nbconvert_exporter": "python",
   "pygments_lexer": "ipython3",
   "version": "3.7.6"
  }
 },
 "nbformat": 4,
 "nbformat_minor": 4
}
